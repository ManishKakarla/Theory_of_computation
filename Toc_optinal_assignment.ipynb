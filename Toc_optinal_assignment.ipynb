{
 "cells": [
  {
   "cell_type": "markdown",
   "metadata": {},
   "source": [
    "# optional assignment"
   ]
  },
  {
   "cell_type": "code",
   "execution_count": 7,
   "metadata": {},
   "outputs": [],
   "source": [
    "def dfa(string):\n",
    "    #LENGTH of the string\n",
    "    l=len(string)\n",
    "    #setting the current value based on the E's\n",
    "    if string[0]=='E':\n",
    "        current=1\n",
    "    if string[0]=='E' and string[1]=='E':\n",
    "        current=2\n",
    "    #if first string is not E then it is not accepted\n",
    "    else:\n",
    "        return \"Not Accepted\"\n",
    "    #T is not followed by E then it is not accepted\n",
    "    if string[current]!='T':\n",
    "        return \"Not accepted\"\n",
    "    #every string after E and before the final should be T\n",
    "    for i in range(current,l-1):\n",
    "        if string[i]!='T':\n",
    "            return \"Not accepted\"\n",
    "    # if the final string is not G then it is not accepted\n",
    "    if string[-1]!='G':\n",
    "        return \"Not accepted\"\n",
    "    \n",
    "    return \"accepted\"\n",
    "    \n",
    "    "
   ]
  },
  {
   "cell_type": "code",
   "execution_count": 3,
   "metadata": {},
   "outputs": [
    {
     "name": "stdout",
     "output_type": "stream",
     "text": [
      "Enter E T G  strings only EETTG\n"
     ]
    },
    {
     "data": {
      "text/plain": [
       "'accepted'"
      ]
     },
     "execution_count": 3,
     "metadata": {},
     "output_type": "execute_result"
    }
   ],
   "source": [
    "string=str(input(\"Enter E T G  strings only \"))\n",
    "dfa(string)"
   ]
  },
  {
   "cell_type": "code",
   "execution_count": 4,
   "metadata": {},
   "outputs": [
    {
     "name": "stdout",
     "output_type": "stream",
     "text": [
      "Enter E T G  strings only GG\n"
     ]
    },
    {
     "data": {
      "text/plain": [
       "'Not Accepted'"
      ]
     },
     "execution_count": 4,
     "metadata": {},
     "output_type": "execute_result"
    }
   ],
   "source": [
    "string=str(input(\"Enter E T G  strings only \"))\n",
    "dfa(string)\n"
   ]
  },
  {
   "cell_type": "code",
   "execution_count": 5,
   "metadata": {},
   "outputs": [
    {
     "name": "stdout",
     "output_type": "stream",
     "text": [
      "Enter E T G  strings only ETTT\n"
     ]
    },
    {
     "data": {
      "text/plain": [
       "'Not Accepted'"
      ]
     },
     "execution_count": 5,
     "metadata": {},
     "output_type": "execute_result"
    }
   ],
   "source": [
    "string=str(input(\"Enter E T G  strings only \"))\n",
    "dfa(string)"
   ]
  },
  {
   "cell_type": "code",
   "execution_count": 6,
   "metadata": {},
   "outputs": [
    {
     "name": "stdout",
     "output_type": "stream",
     "text": [
      "Enter E T G  strings only EETTTTTTTTG\n"
     ]
    },
    {
     "data": {
      "text/plain": [
       "'accepted'"
      ]
     },
     "execution_count": 6,
     "metadata": {},
     "output_type": "execute_result"
    }
   ],
   "source": [
    "string=str(input(\"Enter E T G  strings only \"))\n",
    "dfa(string)"
   ]
  },
  {
   "cell_type": "code",
   "execution_count": null,
   "metadata": {},
   "outputs": [],
   "source": []
  }
 ],
 "metadata": {
  "kernelspec": {
   "display_name": "Python 3",
   "language": "python",
   "name": "python3"
  },
  "language_info": {
   "codemirror_mode": {
    "name": "ipython",
    "version": 3
   },
   "file_extension": ".py",
   "mimetype": "text/x-python",
   "name": "python",
   "nbconvert_exporter": "python",
   "pygments_lexer": "ipython3",
   "version": "3.8.5"
  }
 },
 "nbformat": 4,
 "nbformat_minor": 4
}
